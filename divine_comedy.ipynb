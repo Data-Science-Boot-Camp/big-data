{
 "cells": [
  {
   "cell_type": "code",
   "execution_count": null,
   "metadata": {},
   "outputs": [],
   "source": [
    "from pyspark import SparkContext\n",
    "import matplotlib.pyplot as plt\n",
    "import time"
   ]
  },
  {
   "cell_type": "code",
   "execution_count": null,
   "metadata": {},
   "outputs": [],
   "source": [
    "sc = SparkContext(\"local\", \"count app\")"
   ]
  },
  {
   "cell_type": "code",
   "execution_count": null,
   "metadata": {},
   "outputs": [],
   "source": [
    "# Load a text file\n",
    "text_file = sc.textFile(\"data/divine_comedy.txt\")"
   ]
  },
  {
   "cell_type": "code",
   "execution_count": null,
   "metadata": {},
   "outputs": [],
   "source": [
    "# Calculate the total number of words\n",
    "num_words = text_file.flatMap(lambda line: line.split(\" \")).count()\n",
    "print(f\"The file has {num_words} words.\")\n",
    "# Use the count action to get the number of lines\n",
    "num_lines = text_file.count()\n",
    "\n",
    "print(f\"The file has {num_lines} lines.\")\n",
    "# Calculate the average number of words per line\n",
    "\n",
    "avg_words_per_line = num_words / num_lines\n",
    "\n",
    "print(f\"The average number of words per line is {avg_words_per_line}.\")"
   ]
  },
  {
   "cell_type": "code",
   "execution_count": null,
   "metadata": {},
   "outputs": [],
   "source": [
    "# FlatMap transformation to split the lines into words\n",
    "words = text_file.flatMap(lambda line: line.split(\" \"))"
   ]
  },
  {
   "cell_type": "code",
   "execution_count": null,
   "metadata": {},
   "outputs": [],
   "source": [
    "# Map transformation to create a pair for each word,\n",
    "# and ReduceByKey transformation to count the occurrences\n",
    "word_counts = words.map(\n",
    "    lambda word: (word, 1)\n",
    ").reduceByKey(lambda a,b:a +b)"
   ]
  },
  {
   "cell_type": "code",
   "execution_count": null,
   "metadata": {},
   "outputs": [],
   "source": [
    "# Collect action to bring the data back to the driver program as a list\n",
    "output = word_counts.collect()\n",
    "\n",
    "for (word, count) in output:\n",
    "    print(f\"{word}: {count}\")\n"
   ]
  },
  {
   "cell_type": "code",
   "execution_count": null,
   "metadata": {},
   "outputs": [],
   "source": [
    "# Use the takeOrdered action to get the 10 most common words\n",
    "top10 = word_counts.takeOrdered(10, key=lambda x: -x[1])"
   ]
  },
  {
   "cell_type": "code",
   "execution_count": null,
   "metadata": {},
   "outputs": [],
   "source": [
    "# Separate the words and counts into two lists\n",
    "words = [i[0] for i in top10]\n",
    "counts = [i[1] for i in top10]\n",
    "\n",
    "# Plot the histogram\n",
    "plt.figure(figsize=(10,8))\n",
    "plt.bar(words, counts, color ='maroon', width = 0.6)\n",
    "\n",
    "plt.xlabel(\"Words\") \n",
    "plt.ylabel(\"Counts\") \n",
    "plt.title(\"Top 10 most common words\") \n",
    "plt.show()"
   ]
  },
  {
   "cell_type": "code",
   "execution_count": null,
   "metadata": {},
   "outputs": [],
   "source": [
    "sc.stop()"
   ]
  },
  {
   "cell_type": "code",
   "execution_count": null,
   "metadata": {},
   "outputs": [],
   "source": []
  }
 ],
 "metadata": {
  "kernelspec": {
   "display_name": "Python 3",
   "language": "python",
   "name": "python3"
  },
  "language_info": {
   "codemirror_mode": {
    "name": "ipython",
    "version": 3
   },
   "file_extension": ".py",
   "mimetype": "text/x-python",
   "name": "python",
   "nbconvert_exporter": "python",
   "pygments_lexer": "ipython3",
   "version": "3.10.6"
  },
  "orig_nbformat": 4
 },
 "nbformat": 4,
 "nbformat_minor": 2
}
