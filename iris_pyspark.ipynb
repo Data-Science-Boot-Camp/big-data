{
 "cells": [
  {
   "cell_type": "code",
   "execution_count": null,
   "metadata": {},
   "outputs": [],
   "source": [
    "import seaborn as sns\n",
    "from pyspark.sql import SparkSession\n",
    "\n",
    "# Start Spark Session\n",
    "spark = SparkSession.builder.appName('iris').getOrCreate()\n",
    "\n",
    "# Load iris dataset from seaborn\n",
    "iris = sns.load_dataset('iris')\n",
    "\n",
    "# Convert the iris dataset to a Spark DataFrame\n",
    "iris_df = spark.createDataFrame(iris)\n"
   ]
  },
  {
   "cell_type": "code",
   "execution_count": null,
   "metadata": {},
   "outputs": [],
   "source": [
    "iris_df.show(5)"
   ]
  },
  {
   "cell_type": "code",
   "execution_count": null,
   "metadata": {},
   "outputs": [],
   "source": [
    "from pyspark.ml.feature import StringIndexer\n",
    "\n",
    "# Convert target variable into numerical form\n",
    "indexer = StringIndexer(inputCol=\"species\", outputCol=\"label\")\n",
    "iris_df = indexer.fit(iris_df).transform(iris_df)\n",
    "iris_df.show(5)"
   ]
  },
  {
   "cell_type": "code",
   "execution_count": null,
   "metadata": {},
   "outputs": [],
   "source": [
    "from pyspark.ml.feature import VectorAssembler\n",
    "\n",
    "# Specify the input and output columns of the vector assembler\n",
    "assembler = VectorAssembler(\n",
    "    inputCols=['sepal_length', 'sepal_width', 'petal_length', 'petal_width'],\n",
    "    outputCol='features')\n",
    "\n",
    "# Transform the data\n",
    "iris_df = assembler.transform(iris_df)"
   ]
  },
  {
   "cell_type": "code",
   "execution_count": null,
   "metadata": {},
   "outputs": [],
   "source": [
    "iris_df.show(5)"
   ]
  },
  {
   "cell_type": "code",
   "execution_count": null,
   "metadata": {},
   "outputs": [],
   "source": [
    "# Split the data into training and test sets\n",
    "train_data, test_data = iris_df.randomSplit([0.7, 0.3])"
   ]
  },
  {
   "cell_type": "code",
   "execution_count": null,
   "metadata": {},
   "outputs": [],
   "source": [
    "train_data.show(5)"
   ]
  },
  {
   "cell_type": "code",
   "execution_count": null,
   "metadata": {},
   "outputs": [],
   "source": [
    "from pyspark.ml.classification import RandomForestClassifier\n",
    "\n",
    "# Random Forest Classifier\n",
    "rf = RandomForestClassifier(\n",
    "    featuresCol='features', labelCol='label',\n",
    "    numTrees=100\n",
    ")\n",
    "\n",
    "rf_model = rf.fit(train_data)\n",
    "\n",
    "# Make predictions on the test data\n",
    "predictions = rf_model.transform(test_data)\n",
    "\n",
    "\n",
    "# from pyspark.ml.classification import LogisticRegression\n",
    "\n",
    "# # Create a Logistic Regression model and fit it to the training data\n",
    "# lr = LogisticRegression(featuresCol='features', labelCol='label')\n",
    "# lr_model = lr.fit(train_data)\n",
    "\n",
    "# # Make predictions on the test data\n",
    "# predictions = lr_model.transform(test_data)\n"
   ]
  },
  {
   "cell_type": "code",
   "execution_count": null,
   "metadata": {},
   "outputs": [],
   "source": [
    "from pyspark.ml.evaluation import MulticlassClassificationEvaluator\n",
    "from pyspark.mllib.evaluation import MulticlassMetrics\n",
    "\n",
    "# Convert prediction column to double type\n",
    "predictions = predictions.withColumn(\n",
    "    \"prediction\", predictions[\"prediction\"].cast(\"double\")\n",
    ")\n",
    "\n",
    "evaluator = MulticlassClassificationEvaluator(\n",
    "    labelCol=\"label\", predictionCol=\"prediction\",\n",
    "    metricName=\"accuracy\"\n",
    ")\n",
    "\n",
    "accuracy = evaluator.evaluate(predictions)\n",
    "\n",
    "# Compute confusion matrix\n",
    "predictionAndLabels = predictions.select(\n",
    "    \"prediction\", \"label\"\n",
    ").rdd\n",
    "metrics = MulticlassMetrics(predictionAndLabels)\n",
    "\n",
    "# Get the confusion matrix\n",
    "confusion_matrix = metrics.confusionMatrix().toArray()\n",
    "\n",
    "print(\"Confusion Matrix:\\n\", confusion_matrix)\n",
    "print(\"Accuracy = %g\" % accuracy)\n"
   ]
  },
  {
   "cell_type": "code",
   "execution_count": null,
   "metadata": {},
   "outputs": [],
   "source": [
    "spark.stop()"
   ]
  }
 ],
 "metadata": {
  "kernelspec": {
   "display_name": "Python 3",
   "language": "python",
   "name": "python3"
  },
  "language_info": {
   "codemirror_mode": {
    "name": "ipython",
    "version": 3
   },
   "file_extension": ".py",
   "mimetype": "text/x-python",
   "name": "python",
   "nbconvert_exporter": "python",
   "pygments_lexer": "ipython3",
   "version": "3.10.6"
  },
  "orig_nbformat": 4
 },
 "nbformat": 4,
 "nbformat_minor": 2
}
