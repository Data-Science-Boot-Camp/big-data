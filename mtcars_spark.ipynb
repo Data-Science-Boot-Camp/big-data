{
 "cells": [
  {
   "cell_type": "code",
   "execution_count": null,
   "metadata": {},
   "outputs": [],
   "source": [
    "from pyspark.sql import SparkSession\n",
    "from pydataset import data"
   ]
  },
  {
   "attachments": {},
   "cell_type": "markdown",
   "metadata": {},
   "source": [
    "The `mtcars` dataset was extracted from the 1974 Motor Trend US magazine and comprises fuel consumption and ten aspects of automobile design and performance for 32 automobiles (1973–74 models).\n",
    "\n",
    "Here are the variables included in the dataset:\n",
    "\n",
    "1. **mpg**: Miles/(US) gallon\n",
    "2. **cyl**: Number of cylinders\n",
    "3. **disp**: Displacement (cu.in.)\n",
    "4. **hp**: Gross horsepower\n",
    "5. **drat**: Rear axle ratio\n",
    "6. **wt**: Weight (1000 lbs)\n",
    "7. **qsec**: 1/4 mile time\n",
    "8. **vs**: Engine shape (0 = V-shaped, 1 = straight)\n",
    "9. **am**: Transmission (0 = automatic, 1 = manual)\n",
    "10. **gear**: Number of forward gears\n",
    "11. **carb**: Number of carburetors\n",
    "\n",
    "The rows each correspond to a different model of car."
   ]
  },
  {
   "cell_type": "code",
   "execution_count": null,
   "metadata": {},
   "outputs": [],
   "source": [
    "# Load mtcars data into a pandas DataFrame\n",
    "mtcars_pd = data('mtcars')\n",
    "mtcars_pd"
   ]
  },
  {
   "cell_type": "code",
   "execution_count": null,
   "metadata": {},
   "outputs": [],
   "source": [
    "spark = SparkSession.builder.appName('pyspark_demo').getOrCreate()"
   ]
  },
  {
   "cell_type": "code",
   "execution_count": null,
   "metadata": {},
   "outputs": [],
   "source": [
    "# Convert pandas DataFrame to Spark DataFrame\n",
    "mtcars_df = spark.createDataFrame(mtcars_pd)\n",
    "\n",
    "mtcars_df.show()"
   ]
  },
  {
   "cell_type": "code",
   "execution_count": null,
   "metadata": {},
   "outputs": [],
   "source": [
    "mtcars_df.show(5)"
   ]
  },
  {
   "cell_type": "code",
   "execution_count": null,
   "metadata": {},
   "outputs": [],
   "source": [
    "mtcars_df.select('mpg', 'hp').show()"
   ]
  },
  {
   "cell_type": "code",
   "execution_count": null,
   "metadata": {},
   "outputs": [],
   "source": [
    "mtcars_df.filter(mtcars_df.mpg > 20).show()"
   ]
  },
  {
   "cell_type": "code",
   "execution_count": null,
   "metadata": {},
   "outputs": [],
   "source": [
    "# grouping and aggregation\n",
    "mtcars_df.groupBy('cyl').avg('mpg').show()"
   ]
  },
  {
   "cell_type": "code",
   "execution_count": null,
   "metadata": {},
   "outputs": [],
   "source": [
    "# sorting\n",
    "mtcars_df.sort(mtcars_df.mpg.desc()).show()"
   ]
  },
  {
   "cell_type": "code",
   "execution_count": null,
   "metadata": {},
   "outputs": [],
   "source": [
    "#  Creating a boolean column indicating if mpg > 20\n",
    "from pyspark.sql.functions import col\n",
    "\n",
    "mtcars_df = mtcars_df.withColumn('is_high_mpg', col('mpg') > 20)\n",
    "mtcars_df.show()\n"
   ]
  },
  {
   "cell_type": "code",
   "execution_count": null,
   "metadata": {},
   "outputs": [],
   "source": [
    "# run SQL queries directly on the Spark DataFrame\n",
    "mtcars_df.createOrReplaceTempView(\"mtcars_view\")\n",
    "\n",
    "result_df = spark.sql(\n",
    "    \"SELECT cyl, AVG(mpg) as avg_mpg FROM mtcars_view GROUP BY cyl\"\n",
    ")\n",
    "result_df.show()"
   ]
  },
  {
   "cell_type": "code",
   "execution_count": null,
   "metadata": {},
   "outputs": [],
   "source": [
    "spark.stop()"
   ]
  },
  {
   "cell_type": "code",
   "execution_count": null,
   "metadata": {},
   "outputs": [],
   "source": []
  }
 ],
 "metadata": {
  "kernelspec": {
   "display_name": "Python 3",
   "language": "python",
   "name": "python3"
  },
  "language_info": {
   "codemirror_mode": {
    "name": "ipython",
    "version": 3
   },
   "file_extension": ".py",
   "mimetype": "text/x-python",
   "name": "python",
   "nbconvert_exporter": "python",
   "pygments_lexer": "ipython3",
   "version": "3.10.6"
  },
  "orig_nbformat": 4
 },
 "nbformat": 4,
 "nbformat_minor": 2
}
